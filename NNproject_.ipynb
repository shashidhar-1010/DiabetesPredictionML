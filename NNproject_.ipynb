{
  "nbformat": 4,
  "nbformat_minor": 0,
  "metadata": {
    "colab": {
      "provenance": []
    },
    "kernelspec": {
      "name": "python3",
      "display_name": "Python 3"
    },
    "language_info": {
      "name": "python"
    }
  },
  "cells": [
    {
      "cell_type": "code",
      "execution_count": null,
      "metadata": {
        "id": "b0pPeDem4EiO"
      },
      "outputs": [],
      "source": [
        "import pandas as pd\n",
        "import numpy as np\n",
        "import matplotlib.pyplot as plt\n",
        "import seaborn as sns\n",
        "from sklearn.model_selection import train_test_split\n",
        "from sklearn.metrics import classification_report, accuracy_score\n",
        "from sklearn.preprocessing import Normalizer\n",
        "from keras.layers import Activation, Dense, Dropout, BatchNormalization, Input\n",
        "from keras.models import Model\n",
        "#from keras.optimizers import adam\n",
        "from tensorflow.keras.optimizers import Adam\n",
        "from keras.callbacks import ReduceLROnPlateau, EarlyStopping\n",
        "%matplotlib inline\n",
        "plt.style.use('fivethirtyeight')"
      ]
    },
    {
      "cell_type": "code",
      "source": [
        "diabetes_df = pd.read_csv('/content/diabetes - diabetes.csv', delimiter=',')\n",
        "diabetes_df.head()"
      ],
      "metadata": {
        "colab": {
          "base_uri": "https://localhost:8080/",
          "height": 270
        },
        "id": "eL87z25j4lCp",
        "outputId": "7fa841d9-ac99-4024-9f9f-79b7b9f12666"
      },
      "execution_count": null,
      "outputs": [
        {
          "output_type": "execute_result",
          "data": {
            "text/plain": [
              "   Pregnancies  Glucose  BloodPressure  SkinThickness     Insulin   BMI  \\\n",
              "0          6.0    148.0           72.0       35.00000  155.548223  33.6   \n",
              "1          1.0     85.0           66.0       29.00000  155.548223  26.6   \n",
              "2          8.0    183.0           64.0       29.15342  155.548223  23.3   \n",
              "3          1.0     89.0           66.0       23.00000   94.000000  28.1   \n",
              "4          5.0    116.0           74.0       29.15342  155.548223  25.6   \n",
              "\n",
              "   DiabetesPedigreeFunction  Age  Outcome  \n",
              "0                     0.627   50        1  \n",
              "1                     0.351   31        0  \n",
              "2                     0.672   32        1  \n",
              "3                     0.167   21        0  \n",
              "4                     0.201   30        0  "
            ],
            "text/html": [
              "\n",
              "  <div id=\"df-c336eb63-b584-4f38-8194-43d3749013f8\">\n",
              "    <div class=\"colab-df-container\">\n",
              "      <div>\n",
              "<style scoped>\n",
              "    .dataframe tbody tr th:only-of-type {\n",
              "        vertical-align: middle;\n",
              "    }\n",
              "\n",
              "    .dataframe tbody tr th {\n",
              "        vertical-align: top;\n",
              "    }\n",
              "\n",
              "    .dataframe thead th {\n",
              "        text-align: right;\n",
              "    }\n",
              "</style>\n",
              "<table border=\"1\" class=\"dataframe\">\n",
              "  <thead>\n",
              "    <tr style=\"text-align: right;\">\n",
              "      <th></th>\n",
              "      <th>Pregnancies</th>\n",
              "      <th>Glucose</th>\n",
              "      <th>BloodPressure</th>\n",
              "      <th>SkinThickness</th>\n",
              "      <th>Insulin</th>\n",
              "      <th>BMI</th>\n",
              "      <th>DiabetesPedigreeFunction</th>\n",
              "      <th>Age</th>\n",
              "      <th>Outcome</th>\n",
              "    </tr>\n",
              "  </thead>\n",
              "  <tbody>\n",
              "    <tr>\n",
              "      <th>0</th>\n",
              "      <td>6.0</td>\n",
              "      <td>148.0</td>\n",
              "      <td>72.0</td>\n",
              "      <td>35.00000</td>\n",
              "      <td>155.548223</td>\n",
              "      <td>33.6</td>\n",
              "      <td>0.627</td>\n",
              "      <td>50</td>\n",
              "      <td>1</td>\n",
              "    </tr>\n",
              "    <tr>\n",
              "      <th>1</th>\n",
              "      <td>1.0</td>\n",
              "      <td>85.0</td>\n",
              "      <td>66.0</td>\n",
              "      <td>29.00000</td>\n",
              "      <td>155.548223</td>\n",
              "      <td>26.6</td>\n",
              "      <td>0.351</td>\n",
              "      <td>31</td>\n",
              "      <td>0</td>\n",
              "    </tr>\n",
              "    <tr>\n",
              "      <th>2</th>\n",
              "      <td>8.0</td>\n",
              "      <td>183.0</td>\n",
              "      <td>64.0</td>\n",
              "      <td>29.15342</td>\n",
              "      <td>155.548223</td>\n",
              "      <td>23.3</td>\n",
              "      <td>0.672</td>\n",
              "      <td>32</td>\n",
              "      <td>1</td>\n",
              "    </tr>\n",
              "    <tr>\n",
              "      <th>3</th>\n",
              "      <td>1.0</td>\n",
              "      <td>89.0</td>\n",
              "      <td>66.0</td>\n",
              "      <td>23.00000</td>\n",
              "      <td>94.000000</td>\n",
              "      <td>28.1</td>\n",
              "      <td>0.167</td>\n",
              "      <td>21</td>\n",
              "      <td>0</td>\n",
              "    </tr>\n",
              "    <tr>\n",
              "      <th>4</th>\n",
              "      <td>5.0</td>\n",
              "      <td>116.0</td>\n",
              "      <td>74.0</td>\n",
              "      <td>29.15342</td>\n",
              "      <td>155.548223</td>\n",
              "      <td>25.6</td>\n",
              "      <td>0.201</td>\n",
              "      <td>30</td>\n",
              "      <td>0</td>\n",
              "    </tr>\n",
              "  </tbody>\n",
              "</table>\n",
              "</div>\n",
              "      <button class=\"colab-df-convert\" onclick=\"convertToInteractive('df-c336eb63-b584-4f38-8194-43d3749013f8')\"\n",
              "              title=\"Convert this dataframe to an interactive table.\"\n",
              "              style=\"display:none;\">\n",
              "        \n",
              "  <svg xmlns=\"http://www.w3.org/2000/svg\" height=\"24px\"viewBox=\"0 0 24 24\"\n",
              "       width=\"24px\">\n",
              "    <path d=\"M0 0h24v24H0V0z\" fill=\"none\"/>\n",
              "    <path d=\"M18.56 5.44l.94 2.06.94-2.06 2.06-.94-2.06-.94-.94-2.06-.94 2.06-2.06.94zm-11 1L8.5 8.5l.94-2.06 2.06-.94-2.06-.94L8.5 2.5l-.94 2.06-2.06.94zm10 10l.94 2.06.94-2.06 2.06-.94-2.06-.94-.94-2.06-.94 2.06-2.06.94z\"/><path d=\"M17.41 7.96l-1.37-1.37c-.4-.4-.92-.59-1.43-.59-.52 0-1.04.2-1.43.59L10.3 9.45l-7.72 7.72c-.78.78-.78 2.05 0 2.83L4 21.41c.39.39.9.59 1.41.59.51 0 1.02-.2 1.41-.59l7.78-7.78 2.81-2.81c.8-.78.8-2.07 0-2.86zM5.41 20L4 18.59l7.72-7.72 1.47 1.35L5.41 20z\"/>\n",
              "  </svg>\n",
              "      </button>\n",
              "      \n",
              "  <style>\n",
              "    .colab-df-container {\n",
              "      display:flex;\n",
              "      flex-wrap:wrap;\n",
              "      gap: 12px;\n",
              "    }\n",
              "\n",
              "    .colab-df-convert {\n",
              "      background-color: #E8F0FE;\n",
              "      border: none;\n",
              "      border-radius: 50%;\n",
              "      cursor: pointer;\n",
              "      display: none;\n",
              "      fill: #1967D2;\n",
              "      height: 32px;\n",
              "      padding: 0 0 0 0;\n",
              "      width: 32px;\n",
              "    }\n",
              "\n",
              "    .colab-df-convert:hover {\n",
              "      background-color: #E2EBFA;\n",
              "      box-shadow: 0px 1px 2px rgba(60, 64, 67, 0.3), 0px 1px 3px 1px rgba(60, 64, 67, 0.15);\n",
              "      fill: #174EA6;\n",
              "    }\n",
              "\n",
              "    [theme=dark] .colab-df-convert {\n",
              "      background-color: #3B4455;\n",
              "      fill: #D2E3FC;\n",
              "    }\n",
              "\n",
              "    [theme=dark] .colab-df-convert:hover {\n",
              "      background-color: #434B5C;\n",
              "      box-shadow: 0px 1px 3px 1px rgba(0, 0, 0, 0.15);\n",
              "      filter: drop-shadow(0px 1px 2px rgba(0, 0, 0, 0.3));\n",
              "      fill: #FFFFFF;\n",
              "    }\n",
              "  </style>\n",
              "\n",
              "      <script>\n",
              "        const buttonEl =\n",
              "          document.querySelector('#df-c336eb63-b584-4f38-8194-43d3749013f8 button.colab-df-convert');\n",
              "        buttonEl.style.display =\n",
              "          google.colab.kernel.accessAllowed ? 'block' : 'none';\n",
              "\n",
              "        async function convertToInteractive(key) {\n",
              "          const element = document.querySelector('#df-c336eb63-b584-4f38-8194-43d3749013f8');\n",
              "          const dataTable =\n",
              "            await google.colab.kernel.invokeFunction('convertToInteractive',\n",
              "                                                     [key], {});\n",
              "          if (!dataTable) return;\n",
              "\n",
              "          const docLinkHtml = 'Like what you see? Visit the ' +\n",
              "            '<a target=\"_blank\" href=https://colab.research.google.com/notebooks/data_table.ipynb>data table notebook</a>'\n",
              "            + ' to learn more about interactive tables.';\n",
              "          element.innerHTML = '';\n",
              "          dataTable['output_type'] = 'display_data';\n",
              "          await google.colab.output.renderOutput(dataTable, element);\n",
              "          const docLink = document.createElement('div');\n",
              "          docLink.innerHTML = docLinkHtml;\n",
              "          element.appendChild(docLink);\n",
              "        }\n",
              "      </script>\n",
              "    </div>\n",
              "  </div>\n",
              "  "
            ]
          },
          "metadata": {},
          "execution_count": 52
        }
      ]
    },
    {
      "cell_type": "code",
      "source": [
        "diabetes_df.info()"
      ],
      "metadata": {
        "colab": {
          "base_uri": "https://localhost:8080/"
        },
        "id": "h8vK7Iih48AR",
        "outputId": "05cc5211-5a71-441b-ebfc-dc269315a01c"
      },
      "execution_count": null,
      "outputs": [
        {
          "output_type": "stream",
          "name": "stdout",
          "text": [
            "<class 'pandas.core.frame.DataFrame'>\n",
            "RangeIndex: 699 entries, 0 to 698\n",
            "Data columns (total 9 columns):\n",
            " #   Column                    Non-Null Count  Dtype  \n",
            "---  ------                    --------------  -----  \n",
            " 0   Pregnancies               699 non-null    float64\n",
            " 1   Glucose                   699 non-null    float64\n",
            " 2   BloodPressure             699 non-null    float64\n",
            " 3   SkinThickness             699 non-null    float64\n",
            " 4   Insulin                   699 non-null    float64\n",
            " 5   BMI                       699 non-null    float64\n",
            " 6   DiabetesPedigreeFunction  699 non-null    float64\n",
            " 7   Age                       699 non-null    int64  \n",
            " 8   Outcome                   699 non-null    int64  \n",
            "dtypes: float64(7), int64(2)\n",
            "memory usage: 49.3 KB\n"
          ]
        }
      ]
    },
    {
      "cell_type": "code",
      "source": [
        "diabetes_df.describe()"
      ],
      "metadata": {
        "colab": {
          "base_uri": "https://localhost:8080/",
          "height": 364
        },
        "id": "cCmG2sHD5BeO",
        "outputId": "91c97084-9f0d-40e0-daf3-f339d0fbd888"
      },
      "execution_count": null,
      "outputs": [
        {
          "output_type": "execute_result",
          "data": {
            "text/plain": [
              "       Pregnancies     Glucose  BloodPressure  SkinThickness     Insulin  \\\n",
              "count   699.000000  699.000000     699.000000     699.000000  699.000000   \n",
              "mean      4.497845  118.923367      72.452334      28.700534  138.210721   \n",
              "std       2.986838   28.923994      12.048536       7.904574   42.469555   \n",
              "min       1.000000   44.000000      24.000000       8.000000   22.000000   \n",
              "25%       2.000000   99.000000      64.000000      25.000000  116.000000   \n",
              "50%       4.494673  115.000000      72.405184      29.153420  155.548223   \n",
              "75%       6.000000  136.000000      80.000000      32.000000  155.548223   \n",
              "max      17.000000  199.000000     122.000000      52.000000  255.000000   \n",
              "\n",
              "              BMI  DiabetesPedigreeFunction         Age     Outcome  \n",
              "count  699.000000                699.000000  699.000000  699.000000  \n",
              "mean    32.059846                  0.453226   33.218884    0.333333  \n",
              "std      6.592754                  0.294884   11.670470    0.471742  \n",
              "min     18.200000                  0.078000   21.000000    0.000000  \n",
              "25%     27.300000                  0.238500   24.000000    0.000000  \n",
              "50%     32.000000                  0.364000   29.000000    0.000000  \n",
              "75%     35.900000                  0.600500   40.500000    1.000000  \n",
              "max     57.300000                  1.731000   81.000000    1.000000  "
            ],
            "text/html": [
              "\n",
              "  <div id=\"df-aa75f1ab-ec8c-470b-acc4-a430b86289f8\">\n",
              "    <div class=\"colab-df-container\">\n",
              "      <div>\n",
              "<style scoped>\n",
              "    .dataframe tbody tr th:only-of-type {\n",
              "        vertical-align: middle;\n",
              "    }\n",
              "\n",
              "    .dataframe tbody tr th {\n",
              "        vertical-align: top;\n",
              "    }\n",
              "\n",
              "    .dataframe thead th {\n",
              "        text-align: right;\n",
              "    }\n",
              "</style>\n",
              "<table border=\"1\" class=\"dataframe\">\n",
              "  <thead>\n",
              "    <tr style=\"text-align: right;\">\n",
              "      <th></th>\n",
              "      <th>Pregnancies</th>\n",
              "      <th>Glucose</th>\n",
              "      <th>BloodPressure</th>\n",
              "      <th>SkinThickness</th>\n",
              "      <th>Insulin</th>\n",
              "      <th>BMI</th>\n",
              "      <th>DiabetesPedigreeFunction</th>\n",
              "      <th>Age</th>\n",
              "      <th>Outcome</th>\n",
              "    </tr>\n",
              "  </thead>\n",
              "  <tbody>\n",
              "    <tr>\n",
              "      <th>count</th>\n",
              "      <td>699.000000</td>\n",
              "      <td>699.000000</td>\n",
              "      <td>699.000000</td>\n",
              "      <td>699.000000</td>\n",
              "      <td>699.000000</td>\n",
              "      <td>699.000000</td>\n",
              "      <td>699.000000</td>\n",
              "      <td>699.000000</td>\n",
              "      <td>699.000000</td>\n",
              "    </tr>\n",
              "    <tr>\n",
              "      <th>mean</th>\n",
              "      <td>4.497845</td>\n",
              "      <td>118.923367</td>\n",
              "      <td>72.452334</td>\n",
              "      <td>28.700534</td>\n",
              "      <td>138.210721</td>\n",
              "      <td>32.059846</td>\n",
              "      <td>0.453226</td>\n",
              "      <td>33.218884</td>\n",
              "      <td>0.333333</td>\n",
              "    </tr>\n",
              "    <tr>\n",
              "      <th>std</th>\n",
              "      <td>2.986838</td>\n",
              "      <td>28.923994</td>\n",
              "      <td>12.048536</td>\n",
              "      <td>7.904574</td>\n",
              "      <td>42.469555</td>\n",
              "      <td>6.592754</td>\n",
              "      <td>0.294884</td>\n",
              "      <td>11.670470</td>\n",
              "      <td>0.471742</td>\n",
              "    </tr>\n",
              "    <tr>\n",
              "      <th>min</th>\n",
              "      <td>1.000000</td>\n",
              "      <td>44.000000</td>\n",
              "      <td>24.000000</td>\n",
              "      <td>8.000000</td>\n",
              "      <td>22.000000</td>\n",
              "      <td>18.200000</td>\n",
              "      <td>0.078000</td>\n",
              "      <td>21.000000</td>\n",
              "      <td>0.000000</td>\n",
              "    </tr>\n",
              "    <tr>\n",
              "      <th>25%</th>\n",
              "      <td>2.000000</td>\n",
              "      <td>99.000000</td>\n",
              "      <td>64.000000</td>\n",
              "      <td>25.000000</td>\n",
              "      <td>116.000000</td>\n",
              "      <td>27.300000</td>\n",
              "      <td>0.238500</td>\n",
              "      <td>24.000000</td>\n",
              "      <td>0.000000</td>\n",
              "    </tr>\n",
              "    <tr>\n",
              "      <th>50%</th>\n",
              "      <td>4.494673</td>\n",
              "      <td>115.000000</td>\n",
              "      <td>72.405184</td>\n",
              "      <td>29.153420</td>\n",
              "      <td>155.548223</td>\n",
              "      <td>32.000000</td>\n",
              "      <td>0.364000</td>\n",
              "      <td>29.000000</td>\n",
              "      <td>0.000000</td>\n",
              "    </tr>\n",
              "    <tr>\n",
              "      <th>75%</th>\n",
              "      <td>6.000000</td>\n",
              "      <td>136.000000</td>\n",
              "      <td>80.000000</td>\n",
              "      <td>32.000000</td>\n",
              "      <td>155.548223</td>\n",
              "      <td>35.900000</td>\n",
              "      <td>0.600500</td>\n",
              "      <td>40.500000</td>\n",
              "      <td>1.000000</td>\n",
              "    </tr>\n",
              "    <tr>\n",
              "      <th>max</th>\n",
              "      <td>17.000000</td>\n",
              "      <td>199.000000</td>\n",
              "      <td>122.000000</td>\n",
              "      <td>52.000000</td>\n",
              "      <td>255.000000</td>\n",
              "      <td>57.300000</td>\n",
              "      <td>1.731000</td>\n",
              "      <td>81.000000</td>\n",
              "      <td>1.000000</td>\n",
              "    </tr>\n",
              "  </tbody>\n",
              "</table>\n",
              "</div>\n",
              "      <button class=\"colab-df-convert\" onclick=\"convertToInteractive('df-aa75f1ab-ec8c-470b-acc4-a430b86289f8')\"\n",
              "              title=\"Convert this dataframe to an interactive table.\"\n",
              "              style=\"display:none;\">\n",
              "        \n",
              "  <svg xmlns=\"http://www.w3.org/2000/svg\" height=\"24px\"viewBox=\"0 0 24 24\"\n",
              "       width=\"24px\">\n",
              "    <path d=\"M0 0h24v24H0V0z\" fill=\"none\"/>\n",
              "    <path d=\"M18.56 5.44l.94 2.06.94-2.06 2.06-.94-2.06-.94-.94-2.06-.94 2.06-2.06.94zm-11 1L8.5 8.5l.94-2.06 2.06-.94-2.06-.94L8.5 2.5l-.94 2.06-2.06.94zm10 10l.94 2.06.94-2.06 2.06-.94-2.06-.94-.94-2.06-.94 2.06-2.06.94z\"/><path d=\"M17.41 7.96l-1.37-1.37c-.4-.4-.92-.59-1.43-.59-.52 0-1.04.2-1.43.59L10.3 9.45l-7.72 7.72c-.78.78-.78 2.05 0 2.83L4 21.41c.39.39.9.59 1.41.59.51 0 1.02-.2 1.41-.59l7.78-7.78 2.81-2.81c.8-.78.8-2.07 0-2.86zM5.41 20L4 18.59l7.72-7.72 1.47 1.35L5.41 20z\"/>\n",
              "  </svg>\n",
              "      </button>\n",
              "      \n",
              "  <style>\n",
              "    .colab-df-container {\n",
              "      display:flex;\n",
              "      flex-wrap:wrap;\n",
              "      gap: 12px;\n",
              "    }\n",
              "\n",
              "    .colab-df-convert {\n",
              "      background-color: #E8F0FE;\n",
              "      border: none;\n",
              "      border-radius: 50%;\n",
              "      cursor: pointer;\n",
              "      display: none;\n",
              "      fill: #1967D2;\n",
              "      height: 32px;\n",
              "      padding: 0 0 0 0;\n",
              "      width: 32px;\n",
              "    }\n",
              "\n",
              "    .colab-df-convert:hover {\n",
              "      background-color: #E2EBFA;\n",
              "      box-shadow: 0px 1px 2px rgba(60, 64, 67, 0.3), 0px 1px 3px 1px rgba(60, 64, 67, 0.15);\n",
              "      fill: #174EA6;\n",
              "    }\n",
              "\n",
              "    [theme=dark] .colab-df-convert {\n",
              "      background-color: #3B4455;\n",
              "      fill: #D2E3FC;\n",
              "    }\n",
              "\n",
              "    [theme=dark] .colab-df-convert:hover {\n",
              "      background-color: #434B5C;\n",
              "      box-shadow: 0px 1px 3px 1px rgba(0, 0, 0, 0.15);\n",
              "      filter: drop-shadow(0px 1px 2px rgba(0, 0, 0, 0.3));\n",
              "      fill: #FFFFFF;\n",
              "    }\n",
              "  </style>\n",
              "\n",
              "      <script>\n",
              "        const buttonEl =\n",
              "          document.querySelector('#df-aa75f1ab-ec8c-470b-acc4-a430b86289f8 button.colab-df-convert');\n",
              "        buttonEl.style.display =\n",
              "          google.colab.kernel.accessAllowed ? 'block' : 'none';\n",
              "\n",
              "        async function convertToInteractive(key) {\n",
              "          const element = document.querySelector('#df-aa75f1ab-ec8c-470b-acc4-a430b86289f8');\n",
              "          const dataTable =\n",
              "            await google.colab.kernel.invokeFunction('convertToInteractive',\n",
              "                                                     [key], {});\n",
              "          if (!dataTable) return;\n",
              "\n",
              "          const docLinkHtml = 'Like what you see? Visit the ' +\n",
              "            '<a target=\"_blank\" href=https://colab.research.google.com/notebooks/data_table.ipynb>data table notebook</a>'\n",
              "            + ' to learn more about interactive tables.';\n",
              "          element.innerHTML = '';\n",
              "          dataTable['output_type'] = 'display_data';\n",
              "          await google.colab.output.renderOutput(dataTable, element);\n",
              "          const docLink = document.createElement('div');\n",
              "          docLink.innerHTML = docLinkHtml;\n",
              "          element.appendChild(docLink);\n",
              "        }\n",
              "      </script>\n",
              "    </div>\n",
              "  </div>\n",
              "  "
            ]
          },
          "metadata": {},
          "execution_count": 54
        }
      ]
    },
    {
      "cell_type": "code",
      "source": [
        "diabetes_df.corr()"
      ],
      "metadata": {
        "colab": {
          "base_uri": "https://localhost:8080/",
          "height": 396
        },
        "id": "BvVsudQM5GsK",
        "outputId": "c8217d59-ab00-415d-808e-3ee68680303c"
      },
      "execution_count": null,
      "outputs": [
        {
          "output_type": "execute_result",
          "data": {
            "text/plain": [
              "                          Pregnancies   Glucose  BloodPressure  SkinThickness  \\\n",
              "Pregnancies                  1.000000  0.183524       0.268740       0.150577   \n",
              "Glucose                      0.183524  1.000000       0.250671       0.118644   \n",
              "BloodPressure                0.268740  0.250671       1.000000       0.184851   \n",
              "SkinThickness                0.150577  0.118644       0.184851       1.000000   \n",
              "Insulin                      0.173991  0.348854       0.179849       0.227392   \n",
              "BMI                          0.118290  0.186172       0.267415       0.524647   \n",
              "DiabetesPedigreeFunction     0.003072  0.072542       0.016629       0.042018   \n",
              "Age                          0.510390  0.281225       0.341073       0.129152   \n",
              "Outcome                      0.246918  0.483856       0.182515       0.192592   \n",
              "\n",
              "                           Insulin       BMI  DiabetesPedigreeFunction  \\\n",
              "Pregnancies               0.173991  0.118290                  0.003072   \n",
              "Glucose                   0.348854  0.186172                  0.072542   \n",
              "BloodPressure             0.179849  0.267415                  0.016629   \n",
              "SkinThickness             0.227392  0.524647                  0.042018   \n",
              "Insulin                   1.000000  0.180543                  0.030866   \n",
              "BMI                       0.180543  1.000000                  0.104906   \n",
              "DiabetesPedigreeFunction  0.030866  0.104906                  1.000000   \n",
              "Age                       0.222912  0.045768                  0.053236   \n",
              "Outcome                   0.260541  0.315579                  0.177710   \n",
              "\n",
              "                               Age   Outcome  \n",
              "Pregnancies               0.510390  0.246918  \n",
              "Glucose                   0.281225  0.483856  \n",
              "BloodPressure             0.341073  0.182515  \n",
              "SkinThickness             0.129152  0.192592  \n",
              "Insulin                   0.222912  0.260541  \n",
              "BMI                       0.045768  0.315579  \n",
              "DiabetesPedigreeFunction  0.053236  0.177710  \n",
              "Age                       1.000000  0.224055  \n",
              "Outcome                   0.224055  1.000000  "
            ],
            "text/html": [
              "\n",
              "  <div id=\"df-19049a33-25c7-4375-a16a-ff111762d7d1\">\n",
              "    <div class=\"colab-df-container\">\n",
              "      <div>\n",
              "<style scoped>\n",
              "    .dataframe tbody tr th:only-of-type {\n",
              "        vertical-align: middle;\n",
              "    }\n",
              "\n",
              "    .dataframe tbody tr th {\n",
              "        vertical-align: top;\n",
              "    }\n",
              "\n",
              "    .dataframe thead th {\n",
              "        text-align: right;\n",
              "    }\n",
              "</style>\n",
              "<table border=\"1\" class=\"dataframe\">\n",
              "  <thead>\n",
              "    <tr style=\"text-align: right;\">\n",
              "      <th></th>\n",
              "      <th>Pregnancies</th>\n",
              "      <th>Glucose</th>\n",
              "      <th>BloodPressure</th>\n",
              "      <th>SkinThickness</th>\n",
              "      <th>Insulin</th>\n",
              "      <th>BMI</th>\n",
              "      <th>DiabetesPedigreeFunction</th>\n",
              "      <th>Age</th>\n",
              "      <th>Outcome</th>\n",
              "    </tr>\n",
              "  </thead>\n",
              "  <tbody>\n",
              "    <tr>\n",
              "      <th>Pregnancies</th>\n",
              "      <td>1.000000</td>\n",
              "      <td>0.183524</td>\n",
              "      <td>0.268740</td>\n",
              "      <td>0.150577</td>\n",
              "      <td>0.173991</td>\n",
              "      <td>0.118290</td>\n",
              "      <td>0.003072</td>\n",
              "      <td>0.510390</td>\n",
              "      <td>0.246918</td>\n",
              "    </tr>\n",
              "    <tr>\n",
              "      <th>Glucose</th>\n",
              "      <td>0.183524</td>\n",
              "      <td>1.000000</td>\n",
              "      <td>0.250671</td>\n",
              "      <td>0.118644</td>\n",
              "      <td>0.348854</td>\n",
              "      <td>0.186172</td>\n",
              "      <td>0.072542</td>\n",
              "      <td>0.281225</td>\n",
              "      <td>0.483856</td>\n",
              "    </tr>\n",
              "    <tr>\n",
              "      <th>BloodPressure</th>\n",
              "      <td>0.268740</td>\n",
              "      <td>0.250671</td>\n",
              "      <td>1.000000</td>\n",
              "      <td>0.184851</td>\n",
              "      <td>0.179849</td>\n",
              "      <td>0.267415</td>\n",
              "      <td>0.016629</td>\n",
              "      <td>0.341073</td>\n",
              "      <td>0.182515</td>\n",
              "    </tr>\n",
              "    <tr>\n",
              "      <th>SkinThickness</th>\n",
              "      <td>0.150577</td>\n",
              "      <td>0.118644</td>\n",
              "      <td>0.184851</td>\n",
              "      <td>1.000000</td>\n",
              "      <td>0.227392</td>\n",
              "      <td>0.524647</td>\n",
              "      <td>0.042018</td>\n",
              "      <td>0.129152</td>\n",
              "      <td>0.192592</td>\n",
              "    </tr>\n",
              "    <tr>\n",
              "      <th>Insulin</th>\n",
              "      <td>0.173991</td>\n",
              "      <td>0.348854</td>\n",
              "      <td>0.179849</td>\n",
              "      <td>0.227392</td>\n",
              "      <td>1.000000</td>\n",
              "      <td>0.180543</td>\n",
              "      <td>0.030866</td>\n",
              "      <td>0.222912</td>\n",
              "      <td>0.260541</td>\n",
              "    </tr>\n",
              "    <tr>\n",
              "      <th>BMI</th>\n",
              "      <td>0.118290</td>\n",
              "      <td>0.186172</td>\n",
              "      <td>0.267415</td>\n",
              "      <td>0.524647</td>\n",
              "      <td>0.180543</td>\n",
              "      <td>1.000000</td>\n",
              "      <td>0.104906</td>\n",
              "      <td>0.045768</td>\n",
              "      <td>0.315579</td>\n",
              "    </tr>\n",
              "    <tr>\n",
              "      <th>DiabetesPedigreeFunction</th>\n",
              "      <td>0.003072</td>\n",
              "      <td>0.072542</td>\n",
              "      <td>0.016629</td>\n",
              "      <td>0.042018</td>\n",
              "      <td>0.030866</td>\n",
              "      <td>0.104906</td>\n",
              "      <td>1.000000</td>\n",
              "      <td>0.053236</td>\n",
              "      <td>0.177710</td>\n",
              "    </tr>\n",
              "    <tr>\n",
              "      <th>Age</th>\n",
              "      <td>0.510390</td>\n",
              "      <td>0.281225</td>\n",
              "      <td>0.341073</td>\n",
              "      <td>0.129152</td>\n",
              "      <td>0.222912</td>\n",
              "      <td>0.045768</td>\n",
              "      <td>0.053236</td>\n",
              "      <td>1.000000</td>\n",
              "      <td>0.224055</td>\n",
              "    </tr>\n",
              "    <tr>\n",
              "      <th>Outcome</th>\n",
              "      <td>0.246918</td>\n",
              "      <td>0.483856</td>\n",
              "      <td>0.182515</td>\n",
              "      <td>0.192592</td>\n",
              "      <td>0.260541</td>\n",
              "      <td>0.315579</td>\n",
              "      <td>0.177710</td>\n",
              "      <td>0.224055</td>\n",
              "      <td>1.000000</td>\n",
              "    </tr>\n",
              "  </tbody>\n",
              "</table>\n",
              "</div>\n",
              "      <button class=\"colab-df-convert\" onclick=\"convertToInteractive('df-19049a33-25c7-4375-a16a-ff111762d7d1')\"\n",
              "              title=\"Convert this dataframe to an interactive table.\"\n",
              "              style=\"display:none;\">\n",
              "        \n",
              "  <svg xmlns=\"http://www.w3.org/2000/svg\" height=\"24px\"viewBox=\"0 0 24 24\"\n",
              "       width=\"24px\">\n",
              "    <path d=\"M0 0h24v24H0V0z\" fill=\"none\"/>\n",
              "    <path d=\"M18.56 5.44l.94 2.06.94-2.06 2.06-.94-2.06-.94-.94-2.06-.94 2.06-2.06.94zm-11 1L8.5 8.5l.94-2.06 2.06-.94-2.06-.94L8.5 2.5l-.94 2.06-2.06.94zm10 10l.94 2.06.94-2.06 2.06-.94-2.06-.94-.94-2.06-.94 2.06-2.06.94z\"/><path d=\"M17.41 7.96l-1.37-1.37c-.4-.4-.92-.59-1.43-.59-.52 0-1.04.2-1.43.59L10.3 9.45l-7.72 7.72c-.78.78-.78 2.05 0 2.83L4 21.41c.39.39.9.59 1.41.59.51 0 1.02-.2 1.41-.59l7.78-7.78 2.81-2.81c.8-.78.8-2.07 0-2.86zM5.41 20L4 18.59l7.72-7.72 1.47 1.35L5.41 20z\"/>\n",
              "  </svg>\n",
              "      </button>\n",
              "      \n",
              "  <style>\n",
              "    .colab-df-container {\n",
              "      display:flex;\n",
              "      flex-wrap:wrap;\n",
              "      gap: 12px;\n",
              "    }\n",
              "\n",
              "    .colab-df-convert {\n",
              "      background-color: #E8F0FE;\n",
              "      border: none;\n",
              "      border-radius: 50%;\n",
              "      cursor: pointer;\n",
              "      display: none;\n",
              "      fill: #1967D2;\n",
              "      height: 32px;\n",
              "      padding: 0 0 0 0;\n",
              "      width: 32px;\n",
              "    }\n",
              "\n",
              "    .colab-df-convert:hover {\n",
              "      background-color: #E2EBFA;\n",
              "      box-shadow: 0px 1px 2px rgba(60, 64, 67, 0.3), 0px 1px 3px 1px rgba(60, 64, 67, 0.15);\n",
              "      fill: #174EA6;\n",
              "    }\n",
              "\n",
              "    [theme=dark] .colab-df-convert {\n",
              "      background-color: #3B4455;\n",
              "      fill: #D2E3FC;\n",
              "    }\n",
              "\n",
              "    [theme=dark] .colab-df-convert:hover {\n",
              "      background-color: #434B5C;\n",
              "      box-shadow: 0px 1px 3px 1px rgba(0, 0, 0, 0.15);\n",
              "      filter: drop-shadow(0px 1px 2px rgba(0, 0, 0, 0.3));\n",
              "      fill: #FFFFFF;\n",
              "    }\n",
              "  </style>\n",
              "\n",
              "      <script>\n",
              "        const buttonEl =\n",
              "          document.querySelector('#df-19049a33-25c7-4375-a16a-ff111762d7d1 button.colab-df-convert');\n",
              "        buttonEl.style.display =\n",
              "          google.colab.kernel.accessAllowed ? 'block' : 'none';\n",
              "\n",
              "        async function convertToInteractive(key) {\n",
              "          const element = document.querySelector('#df-19049a33-25c7-4375-a16a-ff111762d7d1');\n",
              "          const dataTable =\n",
              "            await google.colab.kernel.invokeFunction('convertToInteractive',\n",
              "                                                     [key], {});\n",
              "          if (!dataTable) return;\n",
              "\n",
              "          const docLinkHtml = 'Like what you see? Visit the ' +\n",
              "            '<a target=\"_blank\" href=https://colab.research.google.com/notebooks/data_table.ipynb>data table notebook</a>'\n",
              "            + ' to learn more about interactive tables.';\n",
              "          element.innerHTML = '';\n",
              "          dataTable['output_type'] = 'display_data';\n",
              "          await google.colab.output.renderOutput(dataTable, element);\n",
              "          const docLink = document.createElement('div');\n",
              "          docLink.innerHTML = docLinkHtml;\n",
              "          element.appendChild(docLink);\n",
              "        }\n",
              "      </script>\n",
              "    </div>\n",
              "  </div>\n",
              "  "
            ]
          },
          "metadata": {},
          "execution_count": 55
        }
      ]
    },
    {
      "cell_type": "code",
      "source": [
        "f, ax = plt.subplots(1, figsize=(10,8))\n",
        "sns.heatmap(diabetes_df.corr(), annot=True, ax=ax)"
      ],
      "metadata": {
        "colab": {
          "base_uri": "https://localhost:8080/",
          "height": 590
        },
        "id": "3V3-Ttmk5VbE",
        "outputId": "f19e3d1d-9f84-4740-b89f-2adab21325db"
      },
      "execution_count": null,
      "outputs": [
        {
          "output_type": "execute_result",
          "data": {
            "text/plain": [
              "<matplotlib.axes._subplots.AxesSubplot at 0x7f1a978ec3d0>"
            ]
          },
          "metadata": {},
          "execution_count": 56
        },
        {
          "output_type": "display_data",
          "data": {
            "text/plain": [
              "<Figure size 720x576 with 2 Axes>"
            ],
            "image/png": "[encoded data removed]"
          },
          "metadata": {}
        }
      ]
    },
    {
      "cell_type": "code",
      "source": [
        "sns.countplot(x=diabetes_df.Outcome)"
      ],
      "metadata": {
        "colab": {
          "base_uri": "https://localhost:8080/",
          "height": 321
        },
        "id": "QxoDVcqy5kQe",
        "outputId": "f9f84f8b-0c21-43f7-e361-4e5ee363ab96"
      },
      "execution_count": null,
      "outputs": [
        {
          "output_type": "execute_result",
          "data": {
            "text/plain": [
              "<matplotlib.axes._subplots.AxesSubplot at 0x7f1a977d6210>"
            ]
          },
          "metadata": {},
          "execution_count": 57
        },
        {
          "output_type": "display_data",
          "data": {
            "text/plain": [
              "<Figure size 432x288 with 1 Axes>"
            ],
            "image/png": "[encoded data removed]"
          },
          "metadata": {}
        }
      ]
    },
    {
      "cell_type": "code",
      "source": [
        "diabetes_df.drop(columns=['BloodPressure','SkinThickness','DiabetesPedigreeFunction'] ,axis=1, inplace=True)"
      ],
      "metadata": {
        "id": "ywmBWi7O5mU8"
      },
      "execution_count": null,
      "outputs": []
    },
    {
      "cell_type": "code",
      "source": [
        "diabetes_df.describe()"
      ],
      "metadata": {
        "colab": {
          "base_uri": "https://localhost:8080/",
          "height": 300
        },
        "id": "iNNdDvDs6x2o",
        "outputId": "fb44063b-54c5-4a8c-a993-fc18242a15a0"
      },
      "execution_count": null,
      "outputs": [
        {
          "output_type": "execute_result",
          "data": {
            "text/plain": [
              "       Pregnancies     Glucose     Insulin         BMI         Age     Outcome\n",
              "count   699.000000  699.000000  699.000000  699.000000  699.000000  699.000000\n",
              "mean      4.497845  118.923367  138.210721   32.059846   33.218884    0.333333\n",
              "std       2.986838   28.923994   42.469555    6.592754   11.670470    0.471742\n",
              "min       1.000000   44.000000   22.000000   18.200000   21.000000    0.000000\n",
              "25%       2.000000   99.000000  116.000000   27.300000   24.000000    0.000000\n",
              "50%       4.494673  115.000000  155.548223   32.000000   29.000000    0.000000\n",
              "75%       6.000000  136.000000  155.548223   35.900000   40.500000    1.000000\n",
              "max      17.000000  199.000000  255.000000   57.300000   81.000000    1.000000"
            ],
            "text/html": [
              "\n",
              "  <div id=\"df-078ba5bf-0cfe-4b8e-b01b-1225a820ebc0\">\n",
              "    <div class=\"colab-df-container\">\n",
              "      <div>\n",
              "<style scoped>\n",
              "    .dataframe tbody tr th:only-of-type {\n",
              "        vertical-align: middle;\n",
              "    }\n",
              "\n",
              "    .dataframe tbody tr th {\n",
              "        vertical-align: top;\n",
              "    }\n",
              "\n",
              "    .dataframe thead th {\n",
              "        text-align: right;\n",
              "    }\n",
              "</style>\n",
              "<table border=\"1\" class=\"dataframe\">\n",
              "  <thead>\n",
              "    <tr style=\"text-align: right;\">\n",
              "      <th></th>\n",
              "      <th>Pregnancies</th>\n",
              "      <th>Glucose</th>\n",
              "      <th>Insulin</th>\n",
              "      <th>BMI</th>\n",
              "      <th>Age</th>\n",
              "      <th>Outcome</th>\n",
              "    </tr>\n",
              "  </thead>\n",
              "  <tbody>\n",
              "    <tr>\n",
              "      <th>count</th>\n",
              "      <td>699.000000</td>\n",
              "      <td>699.000000</td>\n",
              "      <td>699.000000</td>\n",
              "      <td>699.000000</td>\n",
              "      <td>699.000000</td>\n",
              "      <td>699.000000</td>\n",
              "    </tr>\n",
              "    <tr>\n",
              "      <th>mean</th>\n",
              "      <td>4.497845</td>\n",
              "      <td>118.923367</td>\n",
              "      <td>138.210721</td>\n",
              "      <td>32.059846</td>\n",
              "      <td>33.218884</td>\n",
              "      <td>0.333333</td>\n",
              "    </tr>\n",
              "    <tr>\n",
              "      <th>std</th>\n",
              "      <td>2.986838</td>\n",
              "      <td>28.923994</td>\n",
              "      <td>42.469555</td>\n",
              "      <td>6.592754</td>\n",
              "      <td>11.670470</td>\n",
              "      <td>0.471742</td>\n",
              "    </tr>\n",
              "    <tr>\n",
              "      <th>min</th>\n",
              "      <td>1.000000</td>\n",
              "      <td>44.000000</td>\n",
              "      <td>22.000000</td>\n",
              "      <td>18.200000</td>\n",
              "      <td>21.000000</td>\n",
              "      <td>0.000000</td>\n",
              "    </tr>\n",
              "    <tr>\n",
              "      <th>25%</th>\n",
              "      <td>2.000000</td>\n",
              "      <td>99.000000</td>\n",
              "      <td>116.000000</td>\n",
              "      <td>27.300000</td>\n",
              "      <td>24.000000</td>\n",
              "      <td>0.000000</td>\n",
              "    </tr>\n",
              "    <tr>\n",
              "      <th>50%</th>\n",
              "      <td>4.494673</td>\n",
              "      <td>115.000000</td>\n",
              "      <td>155.548223</td>\n",
              "      <td>32.000000</td>\n",
              "      <td>29.000000</td>\n",
              "      <td>0.000000</td>\n",
              "    </tr>\n",
              "    <tr>\n",
              "      <th>75%</th>\n",
              "      <td>6.000000</td>\n",
              "      <td>136.000000</td>\n",
              "      <td>155.548223</td>\n",
              "      <td>35.900000</td>\n",
              "      <td>40.500000</td>\n",
              "      <td>1.000000</td>\n",
              "    </tr>\n",
              "    <tr>\n",
              "      <th>max</th>\n",
              "      <td>17.000000</td>\n",
              "      <td>199.000000</td>\n",
              "      <td>255.000000</td>\n",
              "      <td>57.300000</td>\n",
              "      <td>81.000000</td>\n",
              "      <td>1.000000</td>\n",
              "    </tr>\n",
              "  </tbody>\n",
              "</table>\n",
              "</div>\n",
              "      <button class=\"colab-df-convert\" onclick=\"convertToInteractive('df-078ba5bf-0cfe-4b8e-b01b-1225a820ebc0')\"\n",
              "              title=\"Convert this dataframe to an interactive table.\"\n",
              "              style=\"display:none;\">\n",
              "        \n",
              "  <svg xmlns=\"http://www.w3.org/2000/svg\" height=\"24px\"viewBox=\"0 0 24 24\"\n",
              "       width=\"24px\">\n",
              "    <path d=\"M0 0h24v24H0V0z\" fill=\"none\"/>\n",
              "    <path d=\"M18.56 5.44l.94 2.06.94-2.06 2.06-.94-2.06-.94-.94-2.06-.94 2.06-2.06.94zm-11 1L8.5 8.5l.94-2.06 2.06-.94-2.06-.94L8.5 2.5l-.94 2.06-2.06.94zm10 10l.94 2.06.94-2.06 2.06-.94-2.06-.94-.94-2.06-.94 2.06-2.06.94z\"/><path d=\"M17.41 7.96l-1.37-1.37c-.4-.4-.92-.59-1.43-.59-.52 0-1.04.2-1.43.59L10.3 9.45l-7.72 7.72c-.78.78-.78 2.05 0 2.83L4 21.41c.39.39.9.59 1.41.59.51 0 1.02-.2 1.41-.59l7.78-7.78 2.81-2.81c.8-.78.8-2.07 0-2.86zM5.41 20L4 18.59l7.72-7.72 1.47 1.35L5.41 20z\"/>\n",
              "  </svg>\n",
              "      </button>\n",
              "      \n",
              "  <style>\n",
              "    .colab-df-container {\n",
              "      display:flex;\n",
              "      flex-wrap:wrap;\n",
              "      gap: 12px;\n",
              "    }\n",
              "\n",
              "    .colab-df-convert {\n",
              "      background-color: #E8F0FE;\n",
              "      border: none;\n",
              "      border-radius: 50%;\n",
              "      cursor: pointer;\n",
              "      display: none;\n",
              "      fill: #1967D2;\n",
              "      height: 32px;\n",
              "      padding: 0 0 0 0;\n",
              "      width: 32px;\n",
              "    }\n",
              "\n",
              "    .colab-df-convert:hover {\n",
              "      background-color: #E2EBFA;\n",
              "      box-shadow: 0px 1px 2px rgba(60, 64, 67, 0.3), 0px 1px 3px 1px rgba(60, 64, 67, 0.15);\n",
              "      fill: #174EA6;\n",
              "    }\n",
              "\n",
              "    [theme=dark] .colab-df-convert {\n",
              "      background-color: #3B4455;\n",
              "      fill: #D2E3FC;\n",
              "    }\n",
              "\n",
              "    [theme=dark] .colab-df-convert:hover {\n",
              "      background-color: #434B5C;\n",
              "      box-shadow: 0px 1px 3px 1px rgba(0, 0, 0, 0.15);\n",
              "      filter: drop-shadow(0px 1px 2px rgba(0, 0, 0, 0.3));\n",
              "      fill: #FFFFFF;\n",
              "    }\n",
              "  </style>\n",
              "\n",
              "      <script>\n",
              "        const buttonEl =\n",
              "          document.querySelector('#df-078ba5bf-0cfe-4b8e-b01b-1225a820ebc0 button.colab-df-convert');\n",
              "        buttonEl.style.display =\n",
              "          google.colab.kernel.accessAllowed ? 'block' : 'none';\n",
              "\n",
              "        async function convertToInteractive(key) {\n",
              "          const element = document.querySelector('#df-078ba5bf-0cfe-4b8e-b01b-1225a820ebc0');\n",
              "          const dataTable =\n",
              "            await google.colab.kernel.invokeFunction('convertToInteractive',\n",
              "                                                     [key], {});\n",
              "          if (!dataTable) return;\n",
              "\n",
              "          const docLinkHtml = 'Like what you see? Visit the ' +\n",
              "            '<a target=\"_blank\" href=https://colab.research.google.com/notebooks/data_table.ipynb>data table notebook</a>'\n",
              "            + ' to learn more about interactive tables.';\n",
              "          element.innerHTML = '';\n",
              "          dataTable['output_type'] = 'display_data';\n",
              "          await google.colab.output.renderOutput(dataTable, element);\n",
              "          const docLink = document.createElement('div');\n",
              "          docLink.innerHTML = docLinkHtml;\n",
              "          element.appendChild(docLink);\n",
              "        }\n",
              "      </script>\n",
              "    </div>\n",
              "  </div>\n",
              "  "
            ]
          },
          "metadata": {},
          "execution_count": 59
        }
      ]
    },
    {
      "cell_type": "code",
      "source": [
        "\n",
        "from sklearn.preprocessing import MinMaxScaler\n",
        "import numpy as np\n",
        "\n",
        "# copy the data\n",
        "df_sklearn = diabetes_df.copy()\n",
        "\n",
        "# apply normalization techniques\n",
        "for column in diabetes_df.columns:\n",
        " df_sklearn[column] = MinMaxScaler().fit_transform(np.array(df_sklearn[column]).reshape(-1,1))\n",
        "\n",
        "# view normalized data\n",
        "display(df_sklearn)\n",
        "diabetes_df=df_sklearn"
      ],
      "metadata": {
        "colab": {
          "base_uri": "https://localhost:8080/",
          "height": 424
        },
        "id": "aXTjPoDf82ES",
        "outputId": "d1c674f4-5dcb-4c69-cbb8-61fbcb88011f"
      },
      "execution_count": null,
      "outputs": [
        {
          "output_type": "display_data",
          "data": {
            "text/plain": [
              "     Pregnancies   Glucose   Insulin       BMI       Age  Outcome\n",
              "0         0.3125  0.670968  0.573168  0.393862  0.483333      1.0\n",
              "1         0.0000  0.264516  0.573168  0.214834  0.166667      0.0\n",
              "2         0.4375  0.896774  0.573168  0.130435  0.183333      1.0\n",
              "3         0.0000  0.290323  0.309013  0.253197  0.000000      0.0\n",
              "4         0.2500  0.464516  0.573168  0.189258  0.150000      0.0\n",
              "..           ...       ...       ...       ...       ...      ...\n",
              "694       0.5625  0.367742  0.678112  0.375959  0.700000      0.0\n",
              "695       0.0625  0.503226  0.573168  0.475703  0.100000      0.0\n",
              "696       0.2500  0.496774  0.386266  0.204604  0.150000      0.0\n",
              "697       0.0000  0.529032  0.573168  0.304348  0.433333      1.0\n",
              "698       0.0000  0.316129  0.573168  0.312020  0.033333      0.0\n",
              "\n",
              "[699 rows x 6 columns]"
            ],
            "text/html": [
              "\n",
              "  <div id=\"df-c553c3d6-2295-4880-a03e-0b3df3c8b178\">\n",
              "    <div class=\"colab-df-container\">\n",
              "      <div>\n",
              "<style scoped>\n",
              "    .dataframe tbody tr th:only-of-type {\n",
              "        vertical-align: middle;\n",
              "    }\n",
              "\n",
              "    .dataframe tbody tr th {\n",
              "        vertical-align: top;\n",
              "    }\n",
              "\n",
              "    .dataframe thead th {\n",
              "        text-align: right;\n",
              "    }\n",
              "</style>\n",
              "<table border=\"1\" class=\"dataframe\">\n",
              "  <thead>\n",
              "    <tr style=\"text-align: right;\">\n",
              "      <th></th>\n",
              "      <th>Pregnancies</th>\n",
              "      <th>Glucose</th>\n",
              "      <th>Insulin</th>\n",
              "      <th>BMI</th>\n",
              "      <th>Age</th>\n",
              "      <th>Outcome</th>\n",
              "    </tr>\n",
              "  </thead>\n",
              "  <tbody>\n",
              "    <tr>\n",
              "      <th>0</th>\n",
              "      <td>0.3125</td>\n",
              "      <td>0.670968</td>\n",
              "      <td>0.573168</td>\n",
              "      <td>0.393862</td>\n",
              "      <td>0.483333</td>\n",
              "      <td>1.0</td>\n",
              "    </tr>\n",
              "    <tr>\n",
              "      <th>1</th>\n",
              "      <td>0.0000</td>\n",
              "      <td>0.264516</td>\n",
              "      <td>0.573168</td>\n",
              "      <td>0.214834</td>\n",
              "      <td>0.166667</td>\n",
              "      <td>0.0</td>\n",
              "    </tr>\n",
              "    <tr>\n",
              "      <th>2</th>\n",
              "      <td>0.4375</td>\n",
              "      <td>0.896774</td>\n",
              "      <td>0.573168</td>\n",
              "      <td>0.130435</td>\n",
              "      <td>0.183333</td>\n",
              "      <td>1.0</td>\n",
              "    </tr>\n",
              "    <tr>\n",
              "      <th>3</th>\n",
              "      <td>0.0000</td>\n",
              "      <td>0.290323</td>\n",
              "      <td>0.309013</td>\n",
              "      <td>0.253197</td>\n",
              "      <td>0.000000</td>\n",
              "      <td>0.0</td>\n",
              "    </tr>\n",
              "    <tr>\n",
              "      <th>4</th>\n",
              "      <td>0.2500</td>\n",
              "      <td>0.464516</td>\n",
              "      <td>0.573168</td>\n",
              "      <td>0.189258</td>\n",
              "      <td>0.150000</td>\n",
              "      <td>0.0</td>\n",
              "    </tr>\n",
              "    <tr>\n",
              "      <th>...</th>\n",
              "      <td>...</td>\n",
              "      <td>...</td>\n",
              "      <td>...</td>\n",
              "      <td>...</td>\n",
              "      <td>...</td>\n",
              "      <td>...</td>\n",
              "    </tr>\n",
              "    <tr>\n",
              "      <th>694</th>\n",
              "      <td>0.5625</td>\n",
              "      <td>0.367742</td>\n",
              "      <td>0.678112</td>\n",
              "      <td>0.375959</td>\n",
              "      <td>0.700000</td>\n",
              "      <td>0.0</td>\n",
              "    </tr>\n",
              "    <tr>\n",
              "      <th>695</th>\n",
              "      <td>0.0625</td>\n",
              "      <td>0.503226</td>\n",
              "      <td>0.573168</td>\n",
              "      <td>0.475703</td>\n",
              "      <td>0.100000</td>\n",
              "      <td>0.0</td>\n",
              "    </tr>\n",
              "    <tr>\n",
              "      <th>696</th>\n",
              "      <td>0.2500</td>\n",
              "      <td>0.496774</td>\n",
              "      <td>0.386266</td>\n",
              "      <td>0.204604</td>\n",
              "      <td>0.150000</td>\n",
              "      <td>0.0</td>\n",
              "    </tr>\n",
              "    <tr>\n",
              "      <th>697</th>\n",
              "      <td>0.0000</td>\n",
              "      <td>0.529032</td>\n",
              "      <td>0.573168</td>\n",
              "      <td>0.304348</td>\n",
              "      <td>0.433333</td>\n",
              "      <td>1.0</td>\n",
              "    </tr>\n",
              "    <tr>\n",
              "      <th>698</th>\n",
              "      <td>0.0000</td>\n",
              "      <td>0.316129</td>\n",
              "      <td>0.573168</td>\n",
              "      <td>0.312020</td>\n",
              "      <td>0.033333</td>\n",
              "      <td>0.0</td>\n",
              "    </tr>\n",
              "  </tbody>\n",
              "</table>\n",
              "<p>699 rows × 6 columns</p>\n",
              "</div>\n",
              "      <button class=\"colab-df-convert\" onclick=\"convertToInteractive('df-c553c3d6-2295-4880-a03e-0b3df3c8b178')\"\n",
              "              title=\"Convert this dataframe to an interactive table.\"\n",
              "              style=\"display:none;\">\n",
              "        \n",
              "  <svg xmlns=\"http://www.w3.org/2000/svg\" height=\"24px\"viewBox=\"0 0 24 24\"\n",
              "       width=\"24px\">\n",
              "    <path d=\"M0 0h24v24H0V0z\" fill=\"none\"/>\n",
              "    <path d=\"M18.56 5.44l.94 2.06.94-2.06 2.06-.94-2.06-.94-.94-2.06-.94 2.06-2.06.94zm-11 1L8.5 8.5l.94-2.06 2.06-.94-2.06-.94L8.5 2.5l-.94 2.06-2.06.94zm10 10l.94 2.06.94-2.06 2.06-.94-2.06-.94-.94-2.06-.94 2.06-2.06.94z\"/><path d=\"M17.41 7.96l-1.37-1.37c-.4-.4-.92-.59-1.43-.59-.52 0-1.04.2-1.43.59L10.3 9.45l-7.72 7.72c-.78.78-.78 2.05 0 2.83L4 21.41c.39.39.9.59 1.41.59.51 0 1.02-.2 1.41-.59l7.78-7.78 2.81-2.81c.8-.78.8-2.07 0-2.86zM5.41 20L4 18.59l7.72-7.72 1.47 1.35L5.41 20z\"/>\n",
              "  </svg>\n",
              "      </button>\n",
              "      \n",
              "  <style>\n",
              "    .colab-df-container {\n",
              "      display:flex;\n",
              "      flex-wrap:wrap;\n",
              "      gap: 12px;\n",
              "    }\n",
              "\n",
              "    .colab-df-convert {\n",
              "      background-color: #E8F0FE;\n",
              "      border: none;\n",
              "      border-radius: 50%;\n",
              "      cursor: pointer;\n",
              "      display: none;\n",
              "      fill: #1967D2;\n",
              "      height: 32px;\n",
              "      padding: 0 0 0 0;\n",
              "      width: 32px;\n",
              "    }\n",
              "\n",
              "    .colab-df-convert:hover {\n",
              "      background-color: #E2EBFA;\n",
              "      box-shadow: 0px 1px 2px rgba(60, 64, 67, 0.3), 0px 1px 3px 1px rgba(60, 64, 67, 0.15);\n",
              "      fill: #174EA6;\n",
              "    }\n",
              "\n",
              "    [theme=dark] .colab-df-convert {\n",
              "      background-color: #3B4455;\n",
              "      fill: #D2E3FC;\n",
              "    }\n",
              "\n",
              "    [theme=dark] .colab-df-convert:hover {\n",
              "      background-color: #434B5C;\n",
              "      box-shadow: 0px 1px 3px 1px rgba(0, 0, 0, 0.15);\n",
              "      filter: drop-shadow(0px 1px 2px rgba(0, 0, 0, 0.3));\n",
              "      fill: #FFFFFF;\n",
              "    }\n",
              "  </style>\n",
              "\n",
              "      <script>\n",
              "        const buttonEl =\n",
              "          document.querySelector('#df-c553c3d6-2295-4880-a03e-0b3df3c8b178 button.colab-df-convert');\n",
              "        buttonEl.style.display =\n",
              "          google.colab.kernel.accessAllowed ? 'block' : 'none';\n",
              "\n",
              "        async function convertToInteractive(key) {\n",
              "          const element = document.querySelector('#df-c553c3d6-2295-4880-a03e-0b3df3c8b178');\n",
              "          const dataTable =\n",
              "            await google.colab.kernel.invokeFunction('convertToInteractive',\n",
              "                                                     [key], {});\n",
              "          if (!dataTable) return;\n",
              "\n",
              "          const docLinkHtml = 'Like what you see? Visit the ' +\n",
              "            '<a target=\"_blank\" href=https://colab.research.google.com/notebooks/data_table.ipynb>data table notebook</a>'\n",
              "            + ' to learn more about interactive tables.';\n",
              "          element.innerHTML = '';\n",
              "          dataTable['output_type'] = 'display_data';\n",
              "          await google.colab.output.renderOutput(dataTable, element);\n",
              "          const docLink = document.createElement('div');\n",
              "          docLink.innerHTML = docLinkHtml;\n",
              "          element.appendChild(docLink);\n",
              "        }\n",
              "      </script>\n",
              "    </div>\n",
              "  </div>\n",
              "  "
            ]
          },
          "metadata": {}
        }
      ]
    },
    {
      "cell_type": "code",
      "source": [
        "\n",
        "diabetes_df.describe()"
      ],
      "metadata": {
        "colab": {
          "base_uri": "https://localhost:8080/",
          "height": 300
        },
        "id": "mvdDWtXI8897",
        "outputId": "73d5f07d-237a-4a7e-eca2-86f26e1fdb97"
      },
      "execution_count": null,
      "outputs": [
        {
          "output_type": "execute_result",
          "data": {
            "text/plain": [
              "       Pregnancies     Glucose     Insulin         BMI         Age     Outcome\n",
              "count   699.000000  699.000000  699.000000  699.000000  699.000000  699.000000\n",
              "mean      0.218615    0.483377    0.498758    0.354472    0.203648    0.333333\n",
              "std       0.186677    0.186606    0.182273    0.168613    0.194508    0.471742\n",
              "min       0.000000    0.000000    0.000000    0.000000    0.000000    0.000000\n",
              "25%       0.062500    0.354839    0.403433    0.232737    0.050000    0.000000\n",
              "50%       0.218417    0.458065    0.573168    0.352941    0.133333    0.000000\n",
              "75%       0.312500    0.593548    0.573168    0.452685    0.325000    1.000000\n",
              "max       1.000000    1.000000    1.000000    1.000000    1.000000    1.000000"
            ],
            "text/html": [
              "\n",
              "  <div id=\"df-a6c7edcd-1af2-4f4e-a02b-667ae4f7cadd\">\n",
              "    <div class=\"colab-df-container\">\n",
              "      <div>\n",
              "<style scoped>\n",
              "    .dataframe tbody tr th:only-of-type {\n",
              "        vertical-align: middle;\n",
              "    }\n",
              "\n",
              "    .dataframe tbody tr th {\n",
              "        vertical-align: top;\n",
              "    }\n",
              "\n",
              "    .dataframe thead th {\n",
              "        text-align: right;\n",
              "    }\n",
              "</style>\n",
              "<table border=\"1\" class=\"dataframe\">\n",
              "  <thead>\n",
              "    <tr style=\"text-align: right;\">\n",
              "      <th></th>\n",
              "      <th>Pregnancies</th>\n",
              "      <th>Glucose</th>\n",
              "      <th>Insulin</th>\n",
              "      <th>BMI</th>\n",
              "      <th>Age</th>\n",
              "      <th>Outcome</th>\n",
              "    </tr>\n",
              "  </thead>\n",
              "  <tbody>\n",
              "    <tr>\n",
              "      <th>count</th>\n",
              "      <td>699.000000</td>\n",
              "      <td>699.000000</td>\n",
              "      <td>699.000000</td>\n",
              "      <td>699.000000</td>\n",
              "      <td>699.000000</td>\n",
              "      <td>699.000000</td>\n",
              "    </tr>\n",
              "    <tr>\n",
              "      <th>mean</th>\n",
              "      <td>0.218615</td>\n",
              "      <td>0.483377</td>\n",
              "      <td>0.498758</td>\n",
              "      <td>0.354472</td>\n",
              "      <td>0.203648</td>\n",
              "      <td>0.333333</td>\n",
              "    </tr>\n",
              "    <tr>\n",
              "      <th>std</th>\n",
              "      <td>0.186677</td>\n",
              "      <td>0.186606</td>\n",
              "      <td>0.182273</td>\n",
              "      <td>0.168613</td>\n",
              "      <td>0.194508</td>\n",
              "      <td>0.471742</td>\n",
              "    </tr>\n",
              "    <tr>\n",
              "      <th>min</th>\n",
              "      <td>0.000000</td>\n",
              "      <td>0.000000</td>\n",
              "      <td>0.000000</td>\n",
              "      <td>0.000000</td>\n",
              "      <td>0.000000</td>\n",
              "      <td>0.000000</td>\n",
              "    </tr>\n",
              "    <tr>\n",
              "      <th>25%</th>\n",
              "      <td>0.062500</td>\n",
              "      <td>0.354839</td>\n",
              "      <td>0.403433</td>\n",
              "      <td>0.232737</td>\n",
              "      <td>0.050000</td>\n",
              "      <td>0.000000</td>\n",
              "    </tr>\n",
              "    <tr>\n",
              "      <th>50%</th>\n",
              "      <td>0.218417</td>\n",
              "      <td>0.458065</td>\n",
              "      <td>0.573168</td>\n",
              "      <td>0.352941</td>\n",
              "      <td>0.133333</td>\n",
              "      <td>0.000000</td>\n",
              "    </tr>\n",
              "    <tr>\n",
              "      <th>75%</th>\n",
              "      <td>0.312500</td>\n",
              "      <td>0.593548</td>\n",
              "      <td>0.573168</td>\n",
              "      <td>0.452685</td>\n",
              "      <td>0.325000</td>\n",
              "      <td>1.000000</td>\n",
              "    </tr>\n",
              "    <tr>\n",
              "      <th>max</th>\n",
              "      <td>1.000000</td>\n",
              "      <td>1.000000</td>\n",
              "      <td>1.000000</td>\n",
              "      <td>1.000000</td>\n",
              "      <td>1.000000</td>\n",
              "      <td>1.000000</td>\n",
              "    </tr>\n",
              "  </tbody>\n",
              "</table>\n",
              "</div>\n",
              "      <button class=\"colab-df-convert\" onclick=\"convertToInteractive('df-a6c7edcd-1af2-4f4e-a02b-667ae4f7cadd')\"\n",
              "              title=\"Convert this dataframe to an interactive table.\"\n",
              "              style=\"display:none;\">\n",
              "        \n",
              "  <svg xmlns=\"http://www.w3.org/2000/svg\" height=\"24px\"viewBox=\"0 0 24 24\"\n",
              "       width=\"24px\">\n",
              "    <path d=\"M0 0h24v24H0V0z\" fill=\"none\"/>\n",
              "    <path d=\"M18.56 5.44l.94 2.06.94-2.06 2.06-.94-2.06-.94-.94-2.06-.94 2.06-2.06.94zm-11 1L8.5 8.5l.94-2.06 2.06-.94-2.06-.94L8.5 2.5l-.94 2.06-2.06.94zm10 10l.94 2.06.94-2.06 2.06-.94-2.06-.94-.94-2.06-.94 2.06-2.06.94z\"/><path d=\"M17.41 7.96l-1.37-1.37c-.4-.4-.92-.59-1.43-.59-.52 0-1.04.2-1.43.59L10.3 9.45l-7.72 7.72c-.78.78-.78 2.05 0 2.83L4 21.41c.39.39.9.59 1.41.59.51 0 1.02-.2 1.41-.59l7.78-7.78 2.81-2.81c.8-.78.8-2.07 0-2.86zM5.41 20L4 18.59l7.72-7.72 1.47 1.35L5.41 20z\"/>\n",
              "  </svg>\n",
              "      </button>\n",
              "      \n",
              "  <style>\n",
              "    .colab-df-container {\n",
              "      display:flex;\n",
              "      flex-wrap:wrap;\n",
              "      gap: 12px;\n",
              "    }\n",
              "\n",
              "    .colab-df-convert {\n",
              "      background-color: #E8F0FE;\n",
              "      border: none;\n",
              "      border-radius: 50%;\n",
              "      cursor: pointer;\n",
              "      display: none;\n",
              "      fill: #1967D2;\n",
              "      height: 32px;\n",
              "      padding: 0 0 0 0;\n",
              "      width: 32px;\n",
              "    }\n",
              "\n",
              "    .colab-df-convert:hover {\n",
              "      background-color: #E2EBFA;\n",
              "      box-shadow: 0px 1px 2px rgba(60, 64, 67, 0.3), 0px 1px 3px 1px rgba(60, 64, 67, 0.15);\n",
              "      fill: #174EA6;\n",
              "    }\n",
              "\n",
              "    [theme=dark] .colab-df-convert {\n",
              "      background-color: #3B4455;\n",
              "      fill: #D2E3FC;\n",
              "    }\n",
              "\n",
              "    [theme=dark] .colab-df-convert:hover {\n",
              "      background-color: #434B5C;\n",
              "      box-shadow: 0px 1px 3px 1px rgba(0, 0, 0, 0.15);\n",
              "      filter: drop-shadow(0px 1px 2px rgba(0, 0, 0, 0.3));\n",
              "      fill: #FFFFFF;\n",
              "    }\n",
              "  </style>\n",
              "\n",
              "      <script>\n",
              "        const buttonEl =\n",
              "          document.querySelector('#df-a6c7edcd-1af2-4f4e-a02b-667ae4f7cadd button.colab-df-convert');\n",
              "        buttonEl.style.display =\n",
              "          google.colab.kernel.accessAllowed ? 'block' : 'none';\n",
              "\n",
              "        async function convertToInteractive(key) {\n",
              "          const element = document.querySelector('#df-a6c7edcd-1af2-4f4e-a02b-667ae4f7cadd');\n",
              "          const dataTable =\n",
              "            await google.colab.kernel.invokeFunction('convertToInteractive',\n",
              "                                                     [key], {});\n",
              "          if (!dataTable) return;\n",
              "\n",
              "          const docLinkHtml = 'Like what you see? Visit the ' +\n",
              "            '<a target=\"_blank\" href=https://colab.research.google.com/notebooks/data_table.ipynb>data table notebook</a>'\n",
              "            + ' to learn more about interactive tables.';\n",
              "          element.innerHTML = '';\n",
              "          dataTable['output_type'] = 'display_data';\n",
              "          await google.colab.output.renderOutput(dataTable, element);\n",
              "          const docLink = document.createElement('div');\n",
              "          docLink.innerHTML = docLinkHtml;\n",
              "          element.appendChild(docLink);\n",
              "        }\n",
              "      </script>\n",
              "    </div>\n",
              "  </div>\n",
              "  "
            ]
          },
          "metadata": {},
          "execution_count": 61
        }
      ]
    },
    {
      "cell_type": "markdown",
      "source": [
        "Neural Networks\n"
      ],
      "metadata": {
        "id": "dnfxx0y5_r_E"
      }
    },
    {
      "cell_type": "code",
      "source": [
        "import pandas as pd\n",
        "from sklearn.model_selection import train_test_split\n",
        "import tensorflow as tf"
      ],
      "metadata": {
        "id": "PV01dvdCR83q"
      },
      "execution_count": null,
      "outputs": []
    },
    {
      "cell_type": "code",
      "source": [
        "from sklearn.model_selection import train_test_split\n",
        "x = diabetes_df.iloc[:,:-1]\n",
        "y = diabetes_df.iloc[:,-1]\n",
        "x_train, x_test, y_train, y_test = train_test_split(x, y, test_size=0.25, random_state=5)"
      ],
      "metadata": {
        "id": "S22jCvZLST3b"
      },
      "execution_count": null,
      "outputs": []
    },
    {
      "cell_type": "code",
      "source": [
        "model = tf.keras.Sequential()\n",
        "model.add(tf.keras.layers.Dense(5, input_shape=(5, )))\n",
        "model.add(tf.keras.layers.Dense(5, activation=\"relu\"))\n",
        "model.add(tf.keras.layers.Dense(1, activation=\"sigmoid\"))\n"
      ],
      "metadata": {
        "id": "W-_RdkUFWOTw"
      },
      "execution_count": null,
      "outputs": []
    },
    {
      "cell_type": "code",
      "source": [
        "model.summary()"
      ],
      "metadata": {
        "colab": {
          "base_uri": "https://localhost:8080/"
        },
        "id": "QqxbA5BYW7gL",
        "outputId": "b5657e54-963e-4bc8-fb6a-cf238dc762e4"
      },
      "execution_count": null,
      "outputs": [
        {
          "output_type": "stream",
          "name": "stdout",
          "text": [
            "Model: \"sequential\"\n",
            "_________________________________________________________________\n",
            " Layer (type)                Output Shape              Param #   \n",
            "=================================================================\n",
            " dense (Dense)               (None, 5)                 30        \n",
            "                                                                 \n",
            " dense_1 (Dense)             (None, 5)                 30        \n",
            "                                                                 \n",
            " dense_2 (Dense)             (None, 1)                 6         \n",
            "                                                                 \n",
            "=================================================================\n",
            "Total params: 66\n",
            "Trainable params: 66\n",
            "Non-trainable params: 0\n",
            "_________________________________________________________________\n"
          ]
        }
      ]
    },
    {
      "cell_type": "code",
      "source": [
        "import warnings\n",
        "warnings.filterwarnings(\"ignore\")\n"
      ],
      "metadata": {
        "id": "0s3cPIwEW_g5"
      },
      "execution_count": null,
      "outputs": []
    },
    {
      "cell_type": "code",
      "source": [
        "from sklearn.model_selection import StratifiedKFold\n",
        "from sklearn.model_selection import cross_val_score\n",
        "from tensorflow.keras.optimizers import SGD\n",
        "kfold = StratifiedKFold(n_splits=5,shuffle=True,random_state=42)\n"
      ],
      "metadata": {
        "id": "gc9CFm6DXF73"
      },
      "execution_count": null,
      "outputs": []
    },
    {
      "cell_type": "code",
      "source": [
        "for train, test in kfold.split(x, y):\n",
        "  x_train = x.iloc[train]\n",
        "  y_train = y.iloc[train]\n",
        "  x_test = x.iloc[test]\n",
        "  y_test = y.iloc[test]"
      ],
      "metadata": {
        "id": "gpIL6nnqXPVL"
      },
      "execution_count": null,
      "outputs": []
    },
    {
      "cell_type": "code",
      "source": [
        "opt = SGD(lr=0.01, momentum=0.9)"
      ],
      "metadata": {
        "id": "1oqc182mXksF"
      },
      "execution_count": null,
      "outputs": []
    },
    {
      "cell_type": "code",
      "source": [
        " model = tf.keras.Sequential()\n",
        " model.add(tf.keras.layers.Dense(5, input_shape=(5, )))\n",
        " model.add(tf.keras.layers.Dense(5, activation=\"relu\"))\n",
        " model.add(tf.keras.layers.Dense(1, activation=\"sigmoid\"))\n",
        " model.compile(optimizer=opt, metrics='accuracy', loss='mse')\n"
      ],
      "metadata": {
        "id": "r_PDs-NKXndW"
      },
      "execution_count": null,
      "outputs": []
    },
    {
      "cell_type": "code",
      "source": [
        "model.summary()"
      ],
      "metadata": {
        "colab": {
          "base_uri": "https://localhost:8080/"
        },
        "id": "7bYs2vsYywRz",
        "outputId": "1af7d946-6ed6-4fe0-927c-60a3a49fe984"
      },
      "execution_count": null,
      "outputs": [
        {
          "output_type": "stream",
          "name": "stdout",
          "text": [
            "Model: \"sequential_10\"\n",
            "_________________________________________________________________\n",
            " Layer (type)                Output Shape              Param #   \n",
            "=================================================================\n",
            " dense_39 (Dense)            (None, 5)                 30        \n",
            "                                                                 \n",
            " dense_40 (Dense)            (None, 5)                 30        \n",
            "                                                                 \n",
            " dense_41 (Dense)            (None, 1)                 6         \n",
            "                                                                 \n",
            "=================================================================\n",
            "Total params: 66\n",
            "Trainable params: 66\n",
            "Non-trainable params: 0\n",
            "_________________________________________________________________\n"
          ]
        }
      ]
    },
    {
      "cell_type": "code",
      "source": [
        "model.fit(x_train, y_train, batch_size=15, epochs=200, verbose=0, validation_data=(x_test, y_test)),\n",
        "_,acc = model.evaluate(x_test, y_test)\n",
        "print(acc)"
      ],
      "metadata": {
        "colab": {
          "base_uri": "https://localhost:8080/"
        },
        "id": "IkXYyYAAXvfF",
        "outputId": "f247ffed-0e8d-4b2b-9478-c5e2de8701f3"
      },
      "execution_count": null,
      "outputs": [
        {
          "output_type": "stream",
          "name": "stdout",
          "text": [
            "5/5 [==============================] - 0s 3ms/step - loss: 0.1529 - accuracy: 0.7842\n",
            "0.7841726541519165\n"
          ]
        }
      ]
    },
    {
      "cell_type": "code",
      "source": [
        "from sklearn.model_selection import StratifiedKFold\n",
        "from sklearn.model_selection import cross_val_score\n",
        "from tensorflow.keras.optimizers import SGD\n",
        "kfold = StratifiedKFold(n_splits=5,shuffle=True,random_state=42)\n"
      ],
      "metadata": {
        "id": "GMkS8uvUYOgm"
      },
      "execution_count": null,
      "outputs": []
    },
    {
      "cell_type": "code",
      "source": [
        "for train, test in kfold.split(x, y):\n",
        "  x_train = x.iloc[train]\n",
        "  y_train = y.iloc[train]\n",
        "  x_test = x.iloc[test]\n",
        "  y_test = y.iloc[test]\n",
        "opt = SGD(lr=0.01, momentum=0.9)"
      ],
      "metadata": {
        "id": "ehxsB54eYSY2"
      },
      "execution_count": null,
      "outputs": []
    },
    {
      "cell_type": "code",
      "source": [
        "model = tf.keras.Sequential()\n",
        "model.add(tf.keras.layers.Dense(5, input_shape=(5, )))\n",
        "model.add(tf.keras.layers.Dense(26, activation=\"relu\"))\n",
        "model.add(tf.keras.layers.Dense(5, activation=\"relu\"))\n",
        "model.add(tf.keras.layers.Dense(1, activation=\"sigmoid\"))\n",
        "model.compile(optimizer=opt, metrics='accuracy', loss='mse')"
      ],
      "metadata": {
        "id": "1V1ZKUXdYZNx"
      },
      "execution_count": null,
      "outputs": []
    },
    {
      "cell_type": "code",
      "source": [
        "model.summary()"
      ],
      "metadata": {
        "colab": {
          "base_uri": "https://localhost:8080/"
        },
        "id": "AE9RjM8Yy_up",
        "outputId": "82b189ac-81db-4d61-db76-f5fc46bb16c7"
      },
      "execution_count": null,
      "outputs": [
        {
          "output_type": "stream",
          "name": "stdout",
          "text": [
            "Model: \"sequential_11\"\n",
            "_________________________________________________________________\n",
            " Layer (type)                Output Shape              Param #   \n",
            "=================================================================\n",
            " dense_42 (Dense)            (None, 5)                 30        \n",
            "                                                                 \n",
            " dense_43 (Dense)            (None, 26)                156       \n",
            "                                                                 \n",
            " dense_44 (Dense)            (None, 5)                 135       \n",
            "                                                                 \n",
            " dense_45 (Dense)            (None, 1)                 6         \n",
            "                                                                 \n",
            "=================================================================\n",
            "Total params: 327\n",
            "Trainable params: 327\n",
            "Non-trainable params: 0\n",
            "_________________________________________________________________\n"
          ]
        }
      ]
    },
    {
      "cell_type": "code",
      "source": [
        "model.fit(x_train, y_train, batch_size=15, epochs=200, verbose=0, validation_data=(x_test, y_test))\n",
        "_, acc = model.evaluate(x_test, y_test)\n",
        "print(acc)"
      ],
      "metadata": {
        "colab": {
          "base_uri": "https://localhost:8080/"
        },
        "id": "l6njrJcsYfjZ",
        "outputId": "1733823f-54e6-40f7-c26e-8618f7fb0415"
      },
      "execution_count": null,
      "outputs": [
        {
          "output_type": "stream",
          "name": "stdout",
          "text": [
            "5/5 [==============================] - 0s 4ms/step - loss: 0.1514 - accuracy: 0.7626\n",
            "0.7625899314880371\n"
          ]
        }
      ]
    },
    {
      "cell_type": "code",
      "source": [
        "from sklearn.model_selection import StratifiedKFold\n",
        "from sklearn.model_selection import cross_val_score\n",
        "from tensorflow.keras.optimizers import SGD\n",
        "kfold = StratifiedKFold(n_splits=5,shuffle=True,random_state=42)"
      ],
      "metadata": {
        "id": "_QmZDOkjYzgE"
      },
      "execution_count": null,
      "outputs": []
    },
    {
      "cell_type": "code",
      "source": [
        "for train, test in kfold.split(x, y):\n",
        "  x_train = x.iloc[train]\n",
        "  y_train = y.iloc[train]\n",
        "  x_test = x.iloc[test]\n",
        "  y_test = y.iloc[test]\n",
        "opt = SGD(lr=0.01, momentum=0.9)"
      ],
      "metadata": {
        "id": "-352ghdVY2__"
      },
      "execution_count": null,
      "outputs": []
    },
    {
      "cell_type": "code",
      "source": [
        "model = tf.keras.Sequential()\n",
        "model.add(tf.keras.layers.Dense(5, input_shape=(5, )))\n",
        "model.add(tf.keras.layers.Dense(16, activation=\"relu\"))\n",
        "model.add(tf.keras.layers.Dense(10, activation=\"relu\"))\n",
        "model.add(tf.keras.layers.Dense(5, activation=\"relu\"))\n",
        "model.add(tf.keras.layers.Dense(1, activation=\"sigmoid\"))\n",
        "model.compile(optimizer=opt, metrics='accuracy', loss='mse')"
      ],
      "metadata": {
        "id": "wrqMQ5xrY5Vv"
      },
      "execution_count": null,
      "outputs": []
    },
    {
      "cell_type": "code",
      "source": [
        "model.summary()"
      ],
      "metadata": {
        "colab": {
          "base_uri": "https://localhost:8080/"
        },
        "id": "QvFvDua3zKEm",
        "outputId": "b5d3bca6-fb91-453f-dd25-be40e1db9bf3"
      },
      "execution_count": null,
      "outputs": [
        {
          "output_type": "stream",
          "name": "stdout",
          "text": [
            "Model: \"sequential_12\"\n",
            "_________________________________________________________________\n",
            " Layer (type)                Output Shape              Param #   \n",
            "=================================================================\n",
            " dense_46 (Dense)            (None, 5)                 30        \n",
            "                                                                 \n",
            " dense_47 (Dense)            (None, 16)                96        \n",
            "                                                                 \n",
            " dense_48 (Dense)            (None, 10)                170       \n",
            "                                                                 \n",
            " dense_49 (Dense)            (None, 5)                 55        \n",
            "                                                                 \n",
            " dense_50 (Dense)            (None, 1)                 6         \n",
            "                                                                 \n",
            "=================================================================\n",
            "Total params: 357\n",
            "Trainable params: 357\n",
            "Non-trainable params: 0\n",
            "_________________________________________________________________\n"
          ]
        }
      ]
    },
    {
      "cell_type": "code",
      "source": [
        "model.fit(x_train, y_train, batch_size=15, epochs=200, verbose=0, validation_data=(x_test, y_test))\n",
        "_, acc = model.evaluate(x_test, y_test)\n",
        "print(acc)"
      ],
      "metadata": {
        "colab": {
          "base_uri": "https://localhost:8080/"
        },
        "id": "NBSEMWH3ZBA-",
        "outputId": "237ca8d8-0e3e-4bdb-86f5-6e774ac7fdf9"
      },
      "execution_count": null,
      "outputs": [
        {
          "output_type": "stream",
          "name": "stdout",
          "text": [
            "5/5 [==============================] - 0s 3ms/step - loss: 0.1455 - accuracy: 0.7986\n",
            "0.798561155796051\n"
          ]
        }
      ]
    },
    {
      "cell_type": "code",
      "source": [
        "from sklearn.model_selection import StratifiedKFold\n",
        "from sklearn.model_selection import cross_val_score\n",
        "from tensorflow.keras.optimizers import SGD\n",
        "kfold = StratifiedKFold(n_splits=5,shuffle=True,random_state=42)\n"
      ],
      "metadata": {
        "id": "aBTQ7Y1jZV_B"
      },
      "execution_count": null,
      "outputs": []
    },
    {
      "cell_type": "code",
      "source": [
        "for train, test in kfold.split(x, y):\n",
        "  x_train = x.iloc[train]\n",
        "  y_train = y.iloc[train]\n",
        "  x_test = x.iloc[test]\n",
        "  y_test = y.iloc[test]\n",
        "opt = SGD(lr=0.01, momentum=0.9)"
      ],
      "metadata": {
        "id": "pNdiUnysio2g"
      },
      "execution_count": null,
      "outputs": []
    },
    {
      "cell_type": "code",
      "source": [
        "model = tf.keras.Sequential()\n",
        "model.add(tf.keras.layers.Dense(5, input_shape=(5, )))\n",
        "model.add(tf.keras.layers.Dense(5, activation=\"relu\"))\n",
        "model.add(tf.keras.layers.Dense(1, activation=\"sigmoid\"))\n",
        "model.compile(optimizer=opt, metrics='accuracy', loss='mse')"
      ],
      "metadata": {
        "id": "szEaPaaaitw9"
      },
      "execution_count": null,
      "outputs": []
    },
    {
      "cell_type": "code",
      "source": [
        "model.fit(x_train, y_train, batch_size=15, epochs=400, verbose=0, validation_data=(x_test, y_test))\n",
        "_, acc = model.evaluate(x_test, y_test)\n",
        "print(acc)"
      ],
      "metadata": {
        "colab": {
          "base_uri": "https://localhost:8080/"
        },
        "id": "bbNowkn0iyTk",
        "outputId": "68331998-6726-4f10-cf43-d33a33214b3b"
      },
      "execution_count": null,
      "outputs": [
        {
          "output_type": "stream",
          "name": "stdout",
          "text": [
            "5/5 [==============================] - 0s 3ms/step - loss: 0.1512 - accuracy: 0.7698\n",
            "0.769784152507782\n"
          ]
        }
      ]
    },
    {
      "cell_type": "code",
      "source": [
        "from sklearn.model_selection import StratifiedKFold\n",
        "from sklearn.model_selection import cross_val_score\n",
        "from tensorflow.keras.optimizers import SGD\n",
        "kfold = StratifiedKFold(n_splits=5,shuffle=True,random_state=42)\n"
      ],
      "metadata": {
        "id": "bJse70eJjHss"
      },
      "execution_count": null,
      "outputs": []
    },
    {
      "cell_type": "code",
      "source": [
        "for train, test in kfold.split(x, y):\n",
        "  x_train = x.iloc[train]\n",
        "  y_train = y.iloc[train]\n",
        "  x_test = x.iloc[test]\n",
        "  y_test = y.iloc[test]\n",
        "\n",
        "opt = SGD(lr=0.01, momentum=0.9)"
      ],
      "metadata": {
        "id": "pKKnkciPjMKq"
      },
      "execution_count": null,
      "outputs": []
    },
    {
      "cell_type": "code",
      "source": [
        "model = tf.keras.Sequential()\n",
        "model.add(tf.keras.layers.Dense(5, input_shape=(5, )))\n",
        "model.add(tf.keras.layers.Dense(26, activation=\"relu\"))\n",
        "model.add(tf.keras.layers.Dense(5, activation=\"relu\"))\n",
        "model.add(tf.keras.layers.Dense(1, activation=\"sigmoid\"))\n",
        "model.compile(optimizer=opt, metrics='accuracy', loss='mse')"
      ],
      "metadata": {
        "id": "DIxffhuLjR0P"
      },
      "execution_count": null,
      "outputs": []
    },
    {
      "cell_type": "code",
      "source": [
        "model.fit(x_train, y_train, batch_size=15, epochs=400, verbose=0, validation_data=(x_test, y_test))\n",
        "_, acc = model.evaluate(x_test, y_test)\n",
        "print(acc)\n"
      ],
      "metadata": {
        "colab": {
          "base_uri": "https://localhost:8080/"
        },
        "id": "q0YS2Wj5jVpo",
        "outputId": "91e3bc62-b431-4b76-92d1-b1e75a601649"
      },
      "execution_count": null,
      "outputs": [
        {
          "output_type": "stream",
          "name": "stdout",
          "text": [
            "5/5 [==============================] - 0s 4ms/step - loss: 0.1617 - accuracy: 0.7626\n",
            "0.7625899314880371\n"
          ]
        }
      ]
    },
    {
      "cell_type": "code",
      "source": [
        "from sklearn.model_selection import StratifiedKFold\n",
        "from sklearn.model_selection import cross_val_score\n",
        "from tensorflow.keras.optimizers import SGD\n",
        "kfold = StratifiedKFold(n_splits=5,shuffle=True,random_state=42)\n"
      ],
      "metadata": {
        "id": "g8N7Q7C2jlxc"
      },
      "execution_count": null,
      "outputs": []
    },
    {
      "cell_type": "code",
      "source": [
        "for train, test in kfold.split(x, y):\n",
        "  x_train = x.iloc[train]\n",
        "  y_train = y.iloc[train]\n",
        "  x_test = x.iloc[test]\n",
        "  y_test = y.iloc[test]\n",
        "\n",
        "opt = SGD(lr=0.01, momentum=0.9)"
      ],
      "metadata": {
        "id": "FOiS13XDjor-"
      },
      "execution_count": null,
      "outputs": []
    },
    {
      "cell_type": "code",
      "source": [
        "model = tf.keras.Sequential()\n",
        "model.add(tf.keras.layers.Dense(5, input_shape=(5, )))\n",
        "model.add(tf.keras.layers.Dense(16, activation=\"relu\"))\n",
        "model.add(tf.keras.layers.Dense(10, activation=\"relu\"))\n",
        "model.add(tf.keras.layers.Dense(5, activation=\"relu\"))\n",
        "model.add(tf.keras.layers.Dense(1, activation=\"sigmoid\"))\n",
        "model.compile(optimizer=opt, metrics='accuracy', loss='mse')"
      ],
      "metadata": {
        "id": "3ej6Z7w9jr6Q"
      },
      "execution_count": null,
      "outputs": []
    },
    {
      "cell_type": "code",
      "source": [
        "model.fit(x_train, y_train, batch_size=15, epochs=400, verbose=0, validation_data=(x_test, y_test))\n",
        "_, acc = model.evaluate(x_test, y_test)\n",
        "print(acc)"
      ],
      "metadata": {
        "colab": {
          "base_uri": "https://localhost:8080/"
        },
        "id": "xDPWgxKmjv9v",
        "outputId": "2b1d7c2b-79a7-417b-e648-2d53ec9325be"
      },
      "execution_count": null,
      "outputs": [
        {
          "output_type": "stream",
          "name": "stdout",
          "text": [
            "5/5 [==============================] - 0s 4ms/step - loss: 0.1593 - accuracy: 0.7482\n",
            "0.7482014298439026\n"
          ]
        }
      ]
    },
    {
      "cell_type": "code",
      "source": [
        "from sklearn.model_selection import StratifiedKFold\n",
        "from sklearn.model_selection import cross_val_score\n",
        "from tensorflow.keras.optimizers import SGD\n",
        "kfold = StratifiedKFold(n_splits=5,shuffle=True,random_state=42)\n"
      ],
      "metadata": {
        "id": "f4H-YhRnj_-n"
      },
      "execution_count": null,
      "outputs": []
    },
    {
      "cell_type": "code",
      "source": [
        "for train, test in kfold.split(x, y):\n",
        "  x_train = x.iloc[train]\n",
        "  y_train = y.iloc[train]\n",
        "  x_test = x.iloc[test]\n",
        "  y_test = y.iloc[test]\n",
        "\n",
        "opt = SGD(lr=0.01, momentum=0.9)"
      ],
      "metadata": {
        "id": "JtQbFHdakDGF"
      },
      "execution_count": null,
      "outputs": []
    },
    {
      "cell_type": "code",
      "source": [
        " model = tf.keras.Sequential()\n",
        " model.add(tf.keras.layers.Dense(5, input_shape=(5, )))\n",
        " model.add(tf.keras.layers.Dense(5, activation=\"relu\"))\n",
        " model.add(tf.keras.layers.Dense(1, activation=\"sigmoid\"))\n",
        " model.compile(optimizer=opt, metrics='accuracy', loss='mse')"
      ],
      "metadata": {
        "id": "F4UMa-qEkGWc"
      },
      "execution_count": null,
      "outputs": []
    },
    {
      "cell_type": "code",
      "source": [
        "model.fit(x_train, y_train, batch_size=15, epochs=800, verbose=0, validation_data=(x_test, y_test))\n",
        "_, acc = model.evaluate(x_test, y_test)\n",
        "print(acc)\n"
      ],
      "metadata": {
        "colab": {
          "base_uri": "https://localhost:8080/"
        },
        "id": "M4PuQQAGkK6t",
        "outputId": "cd2345b6-12b2-496e-fd94-bf525b55afb4"
      },
      "execution_count": null,
      "outputs": [
        {
          "output_type": "stream",
          "name": "stdout",
          "text": [
            "5/5 [==============================] - 0s 3ms/step - loss: 0.1527 - accuracy: 0.7554\n",
            "0.7553957104682922\n"
          ]
        }
      ]
    },
    {
      "cell_type": "code",
      "source": [
        "from sklearn.model_selection import StratifiedKFold\n",
        "from sklearn.model_selection import cross_val_score\n",
        "from tensorflow.keras.optimizers import SGD\n",
        "kfold = StratifiedKFold(n_splits=5,shuffle=True,random_state=42)"
      ],
      "metadata": {
        "id": "SRgiwAP2kg0w"
      },
      "execution_count": null,
      "outputs": []
    },
    {
      "cell_type": "code",
      "source": [
        "for train, test in kfold.split(x, y):\n",
        "  x_train = x.iloc[train]\n",
        "  y_train = y.iloc[train]\n",
        "  x_test = x.iloc[test]\n",
        "  y_test = y.iloc[test]\n",
        "\n",
        "opt = SGD(lr=0.01, momentum=0.9)"
      ],
      "metadata": {
        "id": "C-C5p1cAkipK"
      },
      "execution_count": null,
      "outputs": []
    },
    {
      "cell_type": "code",
      "source": [
        "model = tf.keras.Sequential()\n",
        "model.add(tf.keras.layers.Dense(5, input_shape=(5, )))\n",
        "model.add(tf.keras.layers.Dense(26, activation=\"relu\"))\n",
        "model.add(tf.keras.layers.Dense(5, activation=\"relu\"))\n",
        "model.add(tf.keras.layers.Dense(1, activation=\"sigmoid\"))\n",
        "model.compile(optimizer=opt, metrics='accuracy', loss='mse')"
      ],
      "metadata": {
        "id": "SxqDQ-L6kmRp"
      },
      "execution_count": null,
      "outputs": []
    },
    {
      "cell_type": "code",
      "source": [
        "model.fit(x_train, y_train, batch_size=15, epochs=800, verbose=0, validation_data=(x_test, y_test))\n",
        "_, acc = model.evaluate(x_test, y_test)\n",
        "print(acc)\n"
      ],
      "metadata": {
        "colab": {
          "base_uri": "https://localhost:8080/"
        },
        "id": "8PpTePzUkois",
        "outputId": "48e67189-4aab-46ff-c0b1-046ecaabbe08"
      },
      "execution_count": null,
      "outputs": [
        {
          "output_type": "stream",
          "name": "stdout",
          "text": [
            "5/5 [==============================] - 0s 3ms/step - loss: 0.1547 - accuracy: 0.7554\n",
            "0.7553957104682922\n"
          ]
        }
      ]
    },
    {
      "cell_type": "code",
      "source": [
        "from sklearn.model_selection import StratifiedKFold\n",
        "from sklearn.model_selection import cross_val_score\n",
        "from tensorflow.keras.optimizers import SGD\n",
        "kfold = StratifiedKFold(n_splits=5,shuffle=True,random_state=42)"
      ],
      "metadata": {
        "id": "gXnlJ3XcktW3"
      },
      "execution_count": null,
      "outputs": []
    },
    {
      "cell_type": "code",
      "source": [
        "for train, test in kfold.split(x, y):\n",
        "  x_train = x.iloc[train]\n",
        "  y_train = y.iloc[train]\n",
        "  x_test = x.iloc[test]\n",
        "  y_test = y.iloc[test]\n",
        "\n",
        "opt = SGD(lr=0.01, momentum=0.9)"
      ],
      "metadata": {
        "id": "8ieWnolDkuSw"
      },
      "execution_count": null,
      "outputs": []
    },
    {
      "cell_type": "code",
      "source": [
        "model = tf.keras.Sequential()\n",
        "model.add(tf.keras.layers.Dense(5, input_shape=(5, )))\n",
        "model.add(tf.keras.layers.Dense(16, activation=\"relu\"))\n",
        "model.add(tf.keras.layers.Dense(10, activation=\"relu\"))\n",
        "model.add(tf.keras.layers.Dense(5, activation=\"relu\"))\n",
        "model.add(tf.keras.layers.Dense(1, activation=\"sigmoid\"))\n",
        "model.compile(optimizer=opt, metrics='accuracy', loss='mse')"
      ],
      "metadata": {
        "id": "yh-FKF4ZkxdN"
      },
      "execution_count": null,
      "outputs": []
    },
    {
      "cell_type": "code",
      "source": [
        "model.fit(x_train, y_train, batch_size=15, epochs=800, verbose=0, validation_data=(x_test, y_test))\n",
        "_, acc = model.evaluate(x_test, y_test)\n",
        "print(acc)"
      ],
      "metadata": {
        "colab": {
          "base_uri": "https://localhost:8080/"
        },
        "id": "oB9m2oDWk2I3",
        "outputId": "ef7ba4be-5db9-4233-e55c-74cb342ce35a"
      },
      "execution_count": null,
      "outputs": [
        {
          "output_type": "stream",
          "name": "stdout",
          "text": [
            "5/5 [==============================] - 0s 3ms/step - loss: 0.1579 - accuracy: 0.7770\n",
            "0.7769784331321716\n"
          ]
        }
      ]
    }
  ]
}